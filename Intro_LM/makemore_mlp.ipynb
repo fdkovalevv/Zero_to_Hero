{
 "cells": [
  {
   "cell_type": "code",
   "execution_count": 117,
   "id": "2776f10c",
   "metadata": {},
   "outputs": [],
   "source": [
    "import torch\n",
    "import torch.nn.functional as F\n",
    "import matplotlib.pyplot as plt\n",
    "import random"
   ]
  },
  {
   "cell_type": "code",
   "execution_count": 2,
   "id": "6144756a",
   "metadata": {},
   "outputs": [
    {
     "data": {
      "text/plain": [
       "['emma',\n",
       " 'olivia',\n",
       " 'ava',\n",
       " 'isabella',\n",
       " 'sophia',\n",
       " 'charlotte',\n",
       " 'mia',\n",
       " 'amelia',\n",
       " 'harper',\n",
       " 'evelyn']"
      ]
     },
     "execution_count": 2,
     "metadata": {},
     "output_type": "execute_result"
    }
   ],
   "source": [
    "words = open('names.txt', 'r').read().splitlines()\n",
    "words[:10]"
   ]
  },
  {
   "cell_type": "code",
   "execution_count": 7,
   "id": "b62d8294",
   "metadata": {},
   "outputs": [
    {
     "data": {
      "text/plain": [
       "{'a': 1,\n",
       " 'b': 2,\n",
       " 'c': 3,\n",
       " 'd': 4,\n",
       " 'e': 5,\n",
       " 'f': 6,\n",
       " 'g': 7,\n",
       " 'h': 8,\n",
       " 'i': 9,\n",
       " 'j': 10,\n",
       " 'k': 11,\n",
       " 'l': 12,\n",
       " 'm': 13,\n",
       " 'n': 14,\n",
       " 'o': 15,\n",
       " 'p': 16,\n",
       " 'q': 17,\n",
       " 'r': 18,\n",
       " 's': 19,\n",
       " 't': 20,\n",
       " 'u': 21,\n",
       " 'v': 22,\n",
       " 'w': 23,\n",
       " 'x': 24,\n",
       " 'y': 25,\n",
       " 'z': 26,\n",
       " '.': 0}"
      ]
     },
     "execution_count": 7,
     "metadata": {},
     "output_type": "execute_result"
    }
   ],
   "source": [
    "chars = sorted(set(''.join(words)))\n",
    "n2i = {s:i+1 for i, s in enumerate(chars)}\n",
    "n2i['.'] = 0\n",
    "i2n = {i: s for s, i in n2i.items()}\n",
    "n2i"
   ]
  },
  {
   "cell_type": "code",
   "execution_count": 423,
   "id": "b01ee4b7",
   "metadata": {},
   "outputs": [],
   "source": [
    "def cmp(s, dt, t):\n",
    "    ex = torch.all(dt == t.grad).item()\n",
    "    app = torch.allclose(dt, t.grad)\n",
    "    maxdiff = (dt - t.grad).abs().max().item()\n",
    "    print(f'{s:15s} | exact: {str(ex):5s} | approximate: {str(app):5s} | maxdiff: {str(maxdiff):5s}')"
   ]
  },
  {
   "cell_type": "code",
   "execution_count": 306,
   "id": "51457c23",
   "metadata": {},
   "outputs": [],
   "source": [
    "def build_dataset(words):\n",
    "    X, Y = [], []\n",
    "    block_size = 3\n",
    "    for w in words:\n",
    "        context = [0]*block_size\n",
    "\n",
    "        for ch in w+'.':\n",
    "            idx = n2i[ch]\n",
    "            X.append(context)\n",
    "            Y.append(idx)\n",
    "            #print(''.join(i2n[i] for i in context), '-->', i2n[idx])\n",
    "            context = context[1:] + [idx]\n",
    "\n",
    "    X = torch.tensor(X)\n",
    "    Y = torch.tensor(Y)\n",
    "    return X, Y\n",
    "\n",
    "\n",
    "random.seed(42)\n",
    "random.shuffle(words)\n",
    "n1 = int(0.8 * len(words))\n",
    "n2 = int(0.9 * len(words))\n",
    "\n",
    "X_train, y_train = build_dataset(words[:n1])\n",
    "X_val, y_val = build_dataset(words[n1:n2])\n",
    "X_test, y_test = build_dataset(words[n2:])\n"
   ]
  },
  {
   "cell_type": "code",
   "execution_count": null,
   "id": "1e2ebe20",
   "metadata": {},
   "outputs": [],
   "source": [
    "n_emb = 20\n",
    "n_hidden = 200\n",
    "block_size = 3\n",
    "vocab_size = 27\n",
    "\n",
    "\n",
    "g = torch.Generator().manual_seed(42)\n",
    "C = torch.randn((vocab_size, n_emb), generator=g)\n",
    "W1 = torch.randn((n_emb * block_size, n_hidden), generator=g) * (5/3)/((n_emb * block_size)**0.5)\n",
    "b1 = torch.randn(n_hidden, generator=g) * 0.1\n",
    "W2 = torch.randn((n_hidden, vocab_size), generator=g) * 0.1\n",
    "b2 = torch.randn(vocab_size, generator=g) * 0.1\n",
    "bngain = torch.ones((1, n_hidden))\n",
    "bnbias = torch.zeros((1, n_hidden))\n",
    "bmean_running = torch.zeros((1, n_hidden))*0.1 + 1.0\n",
    "bstd_running = torch.ones((1, n_hidden))*0.1\n",
    "\n",
    "parameters = [C, W1, W2, b2, bngain, bnbias]"
   ]
  },
  {
   "cell_type": "code",
   "execution_count": 362,
   "id": "dafe70a3",
   "metadata": {},
   "outputs": [
    {
     "data": {
      "text/plain": [
       "18567"
      ]
     },
     "execution_count": 362,
     "metadata": {},
     "output_type": "execute_result"
    }
   ],
   "source": [
    "sum(p.nelement() for p in parameters)"
   ]
  },
  {
   "cell_type": "code",
   "execution_count": null,
   "id": "e58a0a95",
   "metadata": {},
   "outputs": [],
   "source": [
    "for p in parameters:\n",
    "    p.requires_grad = True\n",
    "\n",
    "# lre = torch.linspace(-3, 0, 1000)\n",
    "# lrs = 10**lre\n",
    "\n",
    "# lris = []\n",
    "losses = []\n",
    "stepi = []"
   ]
  },
  {
   "cell_type": "code",
   "execution_count": null,
   "id": "c5700fb3",
   "metadata": {},
   "outputs": [],
   "source": [
    "\n",
    "for i in range(200000):\n",
    "    #mini-batch\n",
    "    idx = torch.randint(0, X_train.shape[0], (128, ))\n",
    "\n",
    "    \n",
    "    #forward pass\n",
    "    emb = C[X_train[idx]]\n",
    "    h_preact = emb.view(-1, emb.shape[1]*emb.shape[2]) @ W1 #+ b1\n",
    "    bmeani = h_preact.mean(0, keepdim=True)\n",
    "    bstdi = h_preact.std(0, keepdim=True)\n",
    "    h_preact = (h_preact - bmeani) / (bstdi)\n",
    "    h_preact = bngain * h_preact + bnbias\n",
    "    h = torch.tanh(h_preact)\n",
    "    logits = h @ W2 + b2\n",
    "    loss = F.cross_entropy(logits, y_train[idx])\n",
    "\n",
    "    with torch.no_grad():\n",
    "        bmean_running = 0.999 * bmean_running + 0.001 * bmeani\n",
    "        bstd_running = 0.999 * bstd_running + 0.001 * bstdi\n",
    "\n",
    "    for p in parameters:\n",
    "        p.grad = None\n",
    "\n",
    "    loss.backward()\n",
    "\n",
    "    lr = 0.1 if i < 100000 else 0.01\n",
    "    for p in parameters:\n",
    "        p.data += -lr * p.grad\n",
    "    \n",
    "    # lris.append(lr)\n",
    "    stepi.append(i)\n",
    "    losses.append(loss.log10().item())\n",
    "    \n",
    "    #print(loss.item())"
   ]
  },
  {
   "cell_type": "code",
   "execution_count": 367,
   "id": "c56ed180",
   "metadata": {},
   "outputs": [
    {
     "data": {
      "text/plain": [
       "[<matplotlib.lines.Line2D at 0x401d69f90>]"
      ]
     },
     "execution_count": 367,
     "metadata": {},
     "output_type": "execute_result"
    },
    {
     "data": {
      "image/png": "[encoded data removed]",
      "text/plain": [
       "<Figure size 640x480 with 1 Axes>"
      ]
     },
     "metadata": {},
     "output_type": "display_data"
    }
   ],
   "source": [
    "plt.plot(stepi, losses)"
   ]
  },
  {
   "cell_type": "code",
   "execution_count": null,
   "id": "22672f52",
   "metadata": {},
   "outputs": [
    {
     "data": {
      "text/plain": [
       "tensor(1.9891, grad_fn=<NllLossBackward0>)"
      ]
     },
     "execution_count": 368,
     "metadata": {},
     "output_type": "execute_result"
    }
   ],
   "source": [
    "emb = C[X_train]\n",
    "h_preact = emb.view(-1, emb.shape[1]*emb.shape[2]) @ W1 #+ b1\n",
    "h_preact = (h_preact - bmean_running) / (bstd_running)\n",
    "h_preact = bngain * h_preact + bnbias\n",
    "h = torch.tanh(h_preact)\n",
    "logits = h @ W2 + b2\n",
    "loss = F.cross_entropy(logits, y_train)\n",
    "loss"
   ]
  },
  {
   "cell_type": "code",
   "execution_count": null,
   "id": "9eb610bf",
   "metadata": {},
   "outputs": [
    {
     "data": {
      "text/plain": [
       "tensor(2.0816, grad_fn=<NllLossBackward0>)"
      ]
     },
     "execution_count": 369,
     "metadata": {},
     "output_type": "execute_result"
    }
   ],
   "source": [
    "emb = C[X_val]\n",
    "h_preact = emb.view(-1, emb.shape[1]*emb.shape[2]) @ W1 #+ b1\n",
    "h_preact = (h_preact - bmean_running) / (bstd_running)\n",
    "h_preact = bngain * h_preact + bnbias\n",
    "h = torch.tanh(h_preact)\n",
    "logits = h @ W2 + b2\n",
    "loss = F.cross_entropy(logits, y_val)\n",
    "loss"
   ]
  },
  {
   "cell_type": "code",
   "execution_count": 370,
   "id": "98391247",
   "metadata": {},
   "outputs": [
    {
     "data": {
      "image/png": "[encoded data removed]",
      "text/plain": [
       "<Figure size 500x500 with 1 Axes>"
      ]
     },
     "metadata": {},
     "output_type": "display_data"
    }
   ],
   "source": [
    "plt.figure(figsize=(5, 5))\n",
    "plt.scatter(C[:, 0].data, C[:, 1].data, s=200)\n",
    "for i in range(C.shape[0]):\n",
    "    plt.text(C[i, 0].item(), C[i, 1].item(), i2n[i], ha='center', va='center')\n",
    "plt.grid('minor')"
   ]
  },
  {
   "cell_type": "code",
   "execution_count": 373,
   "id": "356e07aa",
   "metadata": {},
   "outputs": [
    {
     "name": "stdout",
     "output_type": "stream",
     "text": [
      "anuellyvion\n",
      "marian\n",
      "dan\n",
      "shan\n",
      "silayler\n",
      "kemarce\n",
      "man\n",
      "epiacelle\n",
      "jamee\n",
      "kendrijondre\n",
      "kalla\n",
      "mikolynn\n",
      "acvionne\n",
      "chalivianar\n",
      "tiyan\n",
      "mar\n",
      "tal\n",
      "selayo\n",
      "dakoton\n",
      "ker\n"
     ]
    }
   ],
   "source": [
    "block_size = 3\n",
    "g = torch.Generator().manual_seed(42)\n",
    "\n",
    "for _ in range(20):\n",
    "\n",
    "    out = []\n",
    "    context = [0] * block_size\n",
    "    while True:\n",
    "        emb = C[torch.tensor([context])]\n",
    "        h_preact = emb.view(1, -1) @ W1        # (1, n_hidden)\n",
    "        # Используем running-статистики и gain/bias\n",
    "        h_preact = (h_preact - bmean_running) / (bstd_running)\n",
    "        h_preact = bngain * h_preact + bnbias\n",
    "        h = torch.tanh(h_preact)\n",
    "        logits = h @ W2 + b2\n",
    "        probs = F.softmax(logits, dim = 1)\n",
    "        idx = torch.multinomial(probs, num_samples=1, generator=g).item()\n",
    "        context = context[1:] + [idx]\n",
    "        out.append(idx)\n",
    "        if idx == 0:\n",
    "            break\n",
    "    print(''.join([i2n[i] for i in out[:-1]]))\n"
   ]
  },
  {
   "cell_type": "markdown",
   "id": "72f9c7dd",
   "metadata": {},
   "source": [
    "# Torchifying code"
   ]
  },
  {
   "cell_type": "code",
   "execution_count": 420,
   "id": "cc6a5a98",
   "metadata": {},
   "outputs": [],
   "source": [
    "class Linear:\n",
    "    def __init__(self, in_features, out_features, bias=True):\n",
    "        self.weight = torch.randn((in_features, out_features), generator=g) / in_features**0.5\n",
    "        self.bias = torch.zeros(out_features) if bias else None\n",
    "    \n",
    "    def __call__(self, x):\n",
    "        self.out = x @ self.weight\n",
    "        if self.bias is not None:\n",
    "            self.out += self.bias\n",
    "        return self.out\n",
    "    \n",
    "    def parameters(self):\n",
    "        return [self.weight] + ([] if self.bias is None else [self.bias])\n",
    "\n",
    "\n",
    "class BatchNorm1d:\n",
    "    def __init__(self, num_features, eps=1e-5, momentum = 0.1):\n",
    "        self.eps = eps\n",
    "        self.momentum = momentum\n",
    "        self.training = True\n",
    "\n",
    "        self.gamma = torch.ones(num_features)\n",
    "        self.beta = torch.zeros(num_features)\n",
    "\n",
    "        self.running_mean = torch.zeros(num_features)\n",
    "        self.running_std = torch.ones(num_features)\n",
    "    \n",
    "\n",
    "    def __call__(self, x):\n",
    "        if self.training:\n",
    "            xmean = x.mean(0, keepdim=True)\n",
    "            xstd = x.std(0, keepdim=True)\n",
    "        else:\n",
    "            xmean = self.running_mean\n",
    "            xstd = self.running_std\n",
    "        \n",
    "        xhat = (x - xmean) / torch.sqrt(xstd + self.eps)\n",
    "        self.out = self.gamma * xhat + self.beta\n",
    "\n",
    "        if self.training:\n",
    "            with torch.no_grad():\n",
    "                self.running_mean = (1 - self.momentum) * self.momentum + self.gamma * xmean\n",
    "                self.running_std = (1 - self.momentum) * self.momentum + self.gamma * xstd\n",
    "        return self.out\n",
    "\n",
    "    def parameters(self):\n",
    "        return [self.gamma, self.beta]\n",
    "\n",
    "\n",
    "class Tanh:\n",
    "    def __call__(self, x):\n",
    "        self.out = torch.tanh(x)\n",
    "        return self.out\n",
    "    \n",
    "    def parameters(self):\n",
    "        return []"
   ]
  },
  {
   "cell_type": "code",
   "execution_count": 421,
   "id": "a75165f1",
   "metadata": {},
   "outputs": [
    {
     "data": {
      "text/plain": [
       "173724"
      ]
     },
     "execution_count": 421,
     "metadata": {},
     "output_type": "execute_result"
    }
   ],
   "source": [
    "n_emb = 10\n",
    "n_hidden = 200\n",
    "g = torch.Generator().manual_seed(42)\n",
    "\n",
    "C = torch.randn((vocab_size, n_emb), generator=g)\n",
    "layers = [\n",
    "    Linear(n_emb * block_size, n_hidden, bias=False), BatchNorm1d(n_hidden), Tanh(), \n",
    "    Linear(n_hidden, n_hidden, bias=False), BatchNorm1d(n_hidden), Tanh(),\n",
    "    Linear(n_hidden, n_hidden, bias=False), BatchNorm1d(n_hidden), Tanh(),\n",
    "    Linear(n_hidden, n_hidden, bias=False), BatchNorm1d(n_hidden), Tanh(),\n",
    "    Linear(n_hidden, n_hidden, bias=False), BatchNorm1d(n_hidden), Tanh(),\n",
    "    Linear(n_hidden, vocab_size, bias=False), BatchNorm1d(vocab_size)\n",
    "]\n",
    "\n",
    "with torch.no_grad():\n",
    "    layers[-1].gamma *= 0.1\n",
    "\n",
    "    for layer in layers[:-1]:\n",
    "        if isinstance(layer, Linear):\n",
    "            layer.weight *= 5/3\n",
    "\n",
    "parameters = [C] + [p for layer in layers for p in layer.parameters()]\n",
    "for p in parameters:\n",
    "    p.requires_grad = True\n",
    "(sum(p.nelement() for p in parameters))"
   ]
  },
  {
   "cell_type": "code",
   "execution_count": 422,
   "id": "095c3c5b",
   "metadata": {},
   "outputs": [
    {
     "name": "stdout",
     "output_type": "stream",
     "text": [
      "0/200000 - loss:3.2962160110473633\n",
      "10000/200000 - loss:2.0349366664886475\n",
      "20000/200000 - loss:2.4575960636138916\n",
      "30000/200000 - loss:1.9628902673721313\n",
      "40000/200000 - loss:2.1544549465179443\n",
      "50000/200000 - loss:2.491018295288086\n",
      "60000/200000 - loss:2.144200563430786\n",
      "70000/200000 - loss:2.2075436115264893\n",
      "80000/200000 - loss:1.6946940422058105\n",
      "90000/200000 - loss:1.9482702016830444\n",
      "100000/200000 - loss:2.0255675315856934\n",
      "110000/200000 - loss:2.0570502281188965\n",
      "120000/200000 - loss:2.0439581871032715\n",
      "130000/200000 - loss:2.1676084995269775\n",
      "140000/200000 - loss:1.868528127670288\n",
      "150000/200000 - loss:2.3705451488494873\n",
      "160000/200000 - loss:1.9325522184371948\n",
      "170000/200000 - loss:1.8951959609985352\n",
      "180000/200000 - loss:2.0798704624176025\n",
      "190000/200000 - loss:2.159965753555298\n"
     ]
    }
   ],
   "source": [
    "steps = 200_000\n",
    "batch_size = 32\n",
    "stepi = []\n",
    "losses = []\n",
    "\n",
    "for i in range(steps):\n",
    "    idx = torch.randint(0, X_train.shape[0], (batch_size, ), generator=g)\n",
    "    Xb, yb = X_train[idx], y_train[idx]\n",
    "\n",
    "    emb = C[Xb]\n",
    "    x = emb.view(emb.shape[0], -1)\n",
    "    for layer in layers:\n",
    "        x = layer(x)\n",
    "\n",
    "    loss = F.cross_entropy(x, yb)\n",
    "\n",
    "    for layer in layers:\n",
    "        layer.out.retain_grad()\n",
    "    for p in parameters:\n",
    "        p.grad = None\n",
    "\n",
    "    loss.backward()\n",
    "\n",
    "    lr = 0.1 if i < 100000 else 0.01\n",
    "    for p in parameters:\n",
    "        p.data += -lr*p.grad\n",
    "    \n",
    "    if i % 10000 == 0:\n",
    "        print(f'{i}/{steps} - loss:{loss}')\n",
    "    losses.append(loss.log10().mean())\n",
    "    stepi.append(i)"
   ]
  },
  {
   "cell_type": "code",
   "execution_count": null,
   "id": "f5719efc",
   "metadata": {},
   "outputs": [],
   "source": []
  }
 ],
 "metadata": {
  "kernelspec": {
   "display_name": "Python 3",
   "language": "python",
   "name": "python3"
  },
  "language_info": {
   "codemirror_mode": {
    "name": "ipython",
    "version": 3
   },
   "file_extension": ".py",
   "mimetype": "text/x-python",
   "name": "python",
   "nbconvert_exporter": "python",
   "pygments_lexer": "ipython3",
   "version": "3.13.7"
  }
 },
 "nbformat": 4,
 "nbformat_minor": 5
}
